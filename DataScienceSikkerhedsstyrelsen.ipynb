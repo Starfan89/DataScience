{
 "cells": [
  {
   "cell_type": "markdown",
   "id": "c52af375",
   "metadata": {},
   "source": [
    "# Ansoegning"
   ]
  },
  {
   "cell_type": "markdown",
   "id": "00b49166",
   "metadata": {},
   "source": [
    "### Importering af biblioteker"
   ]
  },
  {
   "cell_type": "code",
   "execution_count": 94,
   "id": "03f2452f",
   "metadata": {},
   "outputs": [],
   "source": [
    "import pandas as pd\n",
    "import matplotlib.pyplot as plt\n",
    "from datetime import datetime"
   ]
  },
  {
   "cell_type": "markdown",
   "id": "1b9e2789",
   "metadata": {},
   "source": [
    "### Løsning af CSV fil"
   ]
  },
  {
   "cell_type": "code",
   "execution_count": 20,
   "id": "f6631992",
   "metadata": {
    "scrolled": true
   },
   "outputs": [],
   "source": [
    "# Den statiske filsti\n",
    "filepath = r\"C:\\Users\\steff\\OneDrive\\Dokumenter\\Ansøgninger 2024\\Sikkerhedsstyrelsen\\PythonUdvikler\\husrapporter-2021-01.csv\"\n",
    "\n",
    "# Avender pandas til at læse csv filen\n",
    "data = pd.read_csv(filepath)\n"
   ]
  },
  {
   "cell_type": "markdown",
   "id": "16b88fe5",
   "metadata": {},
   "source": [
    "### Overblik over data"
   ]
  },
  {
   "cell_type": "code",
   "execution_count": 62,
   "id": "b9b9be55",
   "metadata": {},
   "outputs": [
    {
     "data": {
      "text/html": [
       "<div>\n",
       "<style scoped>\n",
       "    .dataframe tbody tr th:only-of-type {\n",
       "        vertical-align: middle;\n",
       "    }\n",
       "\n",
       "    .dataframe tbody tr th {\n",
       "        vertical-align: top;\n",
       "    }\n",
       "\n",
       "    .dataframe thead th {\n",
       "        text-align: right;\n",
       "    }\n",
       "</style>\n",
       "<table border=\"1\" class=\"dataframe\">\n",
       "  <thead>\n",
       "    <tr style=\"text-align: right;\">\n",
       "      <th></th>\n",
       "      <th>rapport_id</th>\n",
       "      <th>inspektoer_id</th>\n",
       "      <th>ejendoms_id</th>\n",
       "      <th>oprettelsesdato</th>\n",
       "      <th>besoegsdato</th>\n",
       "      <th>gyldighedsdato</th>\n",
       "    </tr>\n",
       "  </thead>\n",
       "  <tbody>\n",
       "    <tr>\n",
       "      <th>0</th>\n",
       "      <td>47914</td>\n",
       "      <td>1018</td>\n",
       "      <td>47913</td>\n",
       "      <td>2021-01-04 10:02:30</td>\n",
       "      <td>2021-01-11 08:00:00</td>\n",
       "      <td>2021-01-11 10:38:45</td>\n",
       "    </tr>\n",
       "    <tr>\n",
       "      <th>1</th>\n",
       "      <td>48969</td>\n",
       "      <td>619</td>\n",
       "      <td>48968</td>\n",
       "      <td>2021-01-05 13:22:08</td>\n",
       "      <td>2021-01-05 11:00:00</td>\n",
       "      <td>2021-01-05 13:32:03</td>\n",
       "    </tr>\n",
       "    <tr>\n",
       "      <th>2</th>\n",
       "      <td>50178</td>\n",
       "      <td>368</td>\n",
       "      <td>50177</td>\n",
       "      <td>2021-01-07 10:44:30</td>\n",
       "      <td>2021-01-08 11:43:00</td>\n",
       "      <td>2021-01-08 14:34:58</td>\n",
       "    </tr>\n",
       "    <tr>\n",
       "      <th>3</th>\n",
       "      <td>51212</td>\n",
       "      <td>608</td>\n",
       "      <td>50177</td>\n",
       "      <td>2021-01-10 21:43:22</td>\n",
       "      <td>2021-01-08 07:00:00</td>\n",
       "      <td>2021-01-10 22:42:58</td>\n",
       "    </tr>\n",
       "    <tr>\n",
       "      <th>4</th>\n",
       "      <td>49567</td>\n",
       "      <td>638</td>\n",
       "      <td>49566</td>\n",
       "      <td>2021-01-06 11:42:07</td>\n",
       "      <td>2021-01-06 09:30:00</td>\n",
       "      <td>2021-01-08 10:22:50</td>\n",
       "    </tr>\n",
       "  </tbody>\n",
       "</table>\n",
       "</div>"
      ],
      "text/plain": [
       "   rapport_id  inspektoer_id  ejendoms_id      oprettelsesdato  \\\n",
       "0       47914           1018        47913  2021-01-04 10:02:30   \n",
       "1       48969            619        48968  2021-01-05 13:22:08   \n",
       "2       50178            368        50177  2021-01-07 10:44:30   \n",
       "3       51212            608        50177  2021-01-10 21:43:22   \n",
       "4       49567            638        49566  2021-01-06 11:42:07   \n",
       "\n",
       "           besoegsdato       gyldighedsdato  \n",
       "0  2021-01-11 08:00:00  2021-01-11 10:38:45  \n",
       "1  2021-01-05 11:00:00  2021-01-05 13:32:03  \n",
       "2  2021-01-08 11:43:00  2021-01-08 14:34:58  \n",
       "3  2021-01-08 07:00:00  2021-01-10 22:42:58  \n",
       "4  2021-01-06 09:30:00  2021-01-08 10:22:50  "
      ]
     },
     "execution_count": 62,
     "metadata": {},
     "output_type": "execute_result"
    }
   ],
   "source": [
    "# Overblik over headers og de første fem datapoints af datasættet\n",
    "data.head()"
   ]
  },
  {
   "cell_type": "markdown",
   "id": "e3741e62",
   "metadata": {},
   "source": [
    "### Her kan vi se at vi har følgende data:\n",
    "- rapport_id:           Raportens ID\n",
    "- inspektoer_id:        ID på den inspektør som har udført opgaven\n",
    "- ejendoms_id:          ID på den ejensom der er udført kontrol på\n",
    "- oprettelsesdato:      Dato for oprettelse\n",
    "- besoegsdato:          Dato for besøg af inspektoer\n",
    "- gyldighedsdato:       Dato for gyldighed"
   ]
  },
  {
   "cell_type": "markdown",
   "id": "86f7b204",
   "metadata": {},
   "source": [
    "# Opgaver\n"
   ]
  },
  {
   "cell_type": "markdown",
   "id": "467a874c",
   "metadata": {},
   "source": [
    "## Vi vil gerne vide om der er signifikant forskel på tiderne hos de forskellige inspektører og fagområder."
   ]
  },
  {
   "cell_type": "markdown",
   "id": "d15aaf19",
   "metadata": {},
   "source": [
    "### Kan vi klassificere inspektørerne efter de to fagområder?"
   ]
  },
  {
   "cell_type": "markdown",
   "id": "0d91ee70",
   "metadata": {},
   "source": [
    "Ved første gennemgang af data, kan vi se at flere ejendomme har et eller flere ID tilknyttet forskellige inspektører. De inspektører som er de eneste tilknyttet en ejendoms ID vil således være de som kan udarbejde både elinstallations- og tilstandsrapport."
   ]
  },
  {
   "cell_type": "markdown",
   "id": "a6563b23",
   "metadata": {},
   "source": [
    "#### List med antal rapporter hver ejendom har"
   ]
  },
  {
   "cell_type": "code",
   "execution_count": 119,
   "id": "5a0c1f94",
   "metadata": {},
   "outputs": [
    {
     "data": {
      "text/plain": [
       "2    5307\n",
       "1    2416\n",
       "3     110\n",
       "4      10\n",
       "Name: ejendoms_id, dtype: int64"
      ]
     },
     "execution_count": 119,
     "metadata": {},
     "output_type": "execute_result"
    }
   ],
   "source": [
    "# Identificer ejendomme med præcis én rapport og mere end én rapport\n",
    "ejendomme_antal_rapporter = data['ejendoms_id'].value_counts()\n",
    "ejendomme_antal_rapporter.value_counts()"
   ]
  },
  {
   "cell_type": "markdown",
   "id": "cba53f62",
   "metadata": {},
   "source": [
    "Her har vi en fordeling af hvor mange rapporter hver ejendom har liggende, fordelt fra én op til fire rapporter."
   ]
  },
  {
   "cell_type": "markdown",
   "id": "194c262e",
   "metadata": {},
   "source": [
    "#### Antal ejendomme med én eller flere rapporter"
   ]
  },
  {
   "cell_type": "code",
   "execution_count": 133,
   "id": "4c08beae",
   "metadata": {},
   "outputs": [
    {
     "data": {
      "text/plain": [
       "(2416, 5427)"
      ]
     },
     "execution_count": 133,
     "metadata": {},
     "output_type": "execute_result"
    }
   ],
   "source": [
    "# Ejendomme med præcis én rapport\n",
    "en_rapport_ejendomme = ejendoms_id_tael[ejendoms_id_tael == 1].index.tolist()\n",
    "\n",
    "# Ejendomme med mere end én rapport\n",
    "flere_rapporter_ejendomme = ejendoms_id_tael[ejendoms_id_tael > 1].index.tolist()\n",
    "\n",
    "# Antal ejendomme med hhv. én og flere rapporter\n",
    "antal_ejendomme_en_rapport = len(en_rapport_ejendomme)\n",
    "antal_ejendomme_flere_rapporter = len(flere_rapporter_ejendomme)\n",
    "\n",
    "(antal_ejendomme_en_rapport, antal_ejendomme_flere_rapporter)"
   ]
  },
  {
   "cell_type": "markdown",
   "id": "63151a6d",
   "metadata": {},
   "source": [
    "Her kan vi se at 5427 ejendomme har mere end én rapport mens 2416 kun har én rapport liggende."
   ]
  },
  {
   "cell_type": "markdown",
   "id": "6b87b185",
   "metadata": {},
   "source": [
    "#### Datasæt for ejendomme med hhv. én eller flere rapporter"
   ]
  },
  {
   "cell_type": "code",
   "execution_count": 137,
   "id": "781f1c7a",
   "metadata": {},
   "outputs": [],
   "source": [
    "# Data for ejendomme med præcis én rapport\n",
    "data_en_rapport = data[data['ejendoms_id'].isin(en_rapport_ejendomme)]\n",
    "\n",
    "# Data for ejendomme med mere end én rapport\n",
    "data_flere_rapporter = data[data['ejendoms_id'].isin(flere_rapporter_ejendomme)]                                                   "
   ]
  },
  {
   "cell_type": "markdown",
   "id": "904d0367",
   "metadata": {},
   "source": [
    "#### Inspektører der har arbejdet på kun én rapport"
   ]
  },
  {
   "cell_type": "code",
   "execution_count": 161,
   "id": "6be9572c",
   "metadata": {},
   "outputs": [
    {
     "data": {
      "text/plain": [
       "469"
      ]
     },
     "execution_count": 161,
     "metadata": {},
     "output_type": "execute_result"
    }
   ],
   "source": [
    "inspektoerer_en_rapport = data_en_rapport['inspektoer_id'].unique()\n",
    "antal_inspektoerer_en_rapport = len(inspektoerer_en_rapport)\n",
    "antal_inspektoerer_en_rapport"
   ]
  },
  {
   "cell_type": "markdown",
   "id": "525fea8f",
   "metadata": {},
   "source": [
    "Dette tal viser hvor mange inspektører der selvstændigt har været ude ved ejendomme og derved de inspektører som man må antage kan udføre både elinstallations- og tilstandsrepporter."
   ]
  },
  {
   "cell_type": "markdown",
   "id": "7dd52a03",
   "metadata": {},
   "source": [
    "#### Totale antal unikke inspektører"
   ]
  },
  {
   "cell_type": "code",
   "execution_count": 162,
   "id": "7a043e39",
   "metadata": {},
   "outputs": [
    {
     "data": {
      "text/plain": [
       "590"
      ]
     },
     "execution_count": 162,
     "metadata": {},
     "output_type": "execute_result"
    }
   ],
   "source": [
    "specialicerede_inspektører = data['inspektoer_id'].unique()\n",
    "totale_antal = len(specialicerede_inspektører)\n",
    "totale_antal"
   ]
  },
  {
   "cell_type": "markdown",
   "id": "b44aefe7",
   "metadata": {},
   "source": [
    "I dette datasæt er der 590 unikke inspektører som kan varetage enten elintallations- og/eller  tilstandsrapporter."
   ]
  },
  {
   "cell_type": "markdown",
   "id": "67c5d48b",
   "metadata": {},
   "source": [
    "#### Inspektører som kun varetager enten elintallations- eller tilstandsrapporter"
   ]
  },
  {
   "cell_type": "code",
   "execution_count": 159,
   "id": "aa077def",
   "metadata": {},
   "outputs": [],
   "source": [
    "inspektrører "
   ]
  },
  {
   "cell_type": "code",
   "execution_count": 142,
   "id": "915e04d7",
   "metadata": {},
   "outputs": [
    {
     "ename": "NameError",
     "evalue": "name 'inspekinspektoerer_flere_rapportertoerer_en_rapport' is not defined",
     "output_type": "error",
     "traceback": [
      "\u001b[1;31m---------------------------------------------------------------------------\u001b[0m",
      "\u001b[1;31mNameError\u001b[0m                                 Traceback (most recent call last)",
      "Input \u001b[1;32mIn [142]\u001b[0m, in \u001b[0;36m<cell line: 1>\u001b[1;34m()\u001b[0m\n\u001b[1;32m----> 1\u001b[0m \u001b[43minspekinspektoerer_flere_rapportertoerer_en_rapport\u001b[49m\n",
      "\u001b[1;31mNameError\u001b[0m: name 'inspekinspektoerer_flere_rapportertoerer_en_rapport' is not defined"
     ]
    }
   ],
   "source": [
    "# Inspektører minus inspektører "
   ]
  },
  {
   "cell_type": "markdown",
   "id": "60dc2e42",
   "metadata": {},
   "source": [
    "#### Det totale antal af unikke inspektører"
   ]
  },
  {
   "cell_type": "code",
   "execution_count": 126,
   "id": "fee4f9ce",
   "metadata": {},
   "outputs": [
    {
     "data": {
      "text/plain": [
       "590"
      ]
     },
     "execution_count": 126,
     "metadata": {},
     "output_type": "execute_result"
    }
   ],
   "source": [
    "# Beregn antallet af unikke inspektør ID'er i hele datasættet\n",
    "antal_unikke_inspektoerer = data['inspektoer_id'].nunique()\n",
    "antal_unikke_inspektoerer"
   ]
  },
  {
   "cell_type": "markdown",
   "id": "0647a3c3",
   "metadata": {},
   "source": [
    "#### Antal inspektører som er specialiceret i enten elinstallationsrapporter eller tilstandrapporter."
   ]
  },
  {
   "cell_type": "code",
   "execution_count": 93,
   "id": "d559e048",
   "metadata": {},
   "outputs": [
    {
     "data": {
      "text/plain": [
       "121"
      ]
     },
     "execution_count": 93,
     "metadata": {},
     "output_type": "execute_result"
    }
   ],
   "source": [
    "# Beregn antallet af inspektører som ikke kan udarbejde både el- og tilstandsrapporter\n",
    "antal_inspektoerer_specialiserede = antal_unikke_inspektoerer - antal_inspektoerer_en_rapport\n",
    "antal_inspektoerer_specialiserede"
   ]
  },
  {
   "cell_type": "markdown",
   "id": "292cda47",
   "metadata": {},
   "source": [
    "### Konklusion"
   ]
  },
  {
   "cell_type": "markdown",
   "id": "7071b077",
   "metadata": {},
   "source": [
    "Baseret på ovenstående analyse har vi identificereret:\n",
    "\n",
    "- 2416 ejendomme har én rapport. Her må inspektøren således være i stand til at kunne udføre både elinstallations- og tilstandsrapport. Der er på disse 2416 ejendomme 469 unikke ID'er og derved 469 inspektører som kan varetage begge rapporter.\n",
    "\n",
    "- 5427 ejemdomme har mere end én rapport, hvilken indikerer at der har været flere inspektører ude for at foretage forskellige rapporttyper. Her er der 556 unikke ID'er som har varetaget disse rapporter.\n",
    "\n",
    "- Der er 590 unikke inspektører tilknyttet dette datasæt. Det vil sige at 469 inspektører kan varetage både elinstallations- og tilstandsrapporter mens 121 inspektører kan varetage enten den éne eller den anden rapport."
   ]
  },
  {
   "cell_type": "markdown",
   "id": "8095a06c",
   "metadata": {},
   "source": [
    "## Vi kan definere færdiggørelsestiden som tiden fra besigtigelse til gyldighed."
   ]
  },
  {
   "cell_type": "markdown",
   "id": "e60a936c",
   "metadata": {},
   "source": [
    "### Er der signifikant forskel på færdiggørelsestiden på de to fagområder?"
   ]
  },
  {
   "cell_type": "markdown",
   "id": "25c109d5",
   "metadata": {},
   "source": [
    "#### Først skal vi beregne færdiggørelsestiden, altså tiden fra besøget til gyldigheden i totale antal timer"
   ]
  },
  {
   "cell_type": "code",
   "execution_count": 104,
   "id": "356cbe45",
   "metadata": {},
   "outputs": [
    {
     "data": {
      "text/plain": [
       "115.5228491554096"
      ]
     },
     "execution_count": 104,
     "metadata": {},
     "output_type": "execute_result"
    }
   ],
   "source": [
    "data['besoegsdato'] = pd.to_datetime(data['besoegsdato'], errors='coerce')\n",
    "data['gyldighedsdato'] = pd.to_datetime(data['gyldighedsdato'], errors='coerce')\n",
    "\n",
    "# Beregn færdiggørelsestiden i timer\n",
    "data['færdiggørelsestid_timer'] = (data['gyldighedsdato'] - data['besoegsdato']).dt.total_seconds() / 3600\n",
    "\n",
    "# Den gennemsnitlige færdiggørelsestid i timer\n",
    "data[\"færdiggørelsestid_timer\"].mean()"
   ]
  },
  {
   "cell_type": "markdown",
   "id": "df23bb63",
   "metadata": {},
   "source": []
  },
  {
   "cell_type": "code",
   "execution_count": 106,
   "id": "ddadbded",
   "metadata": {},
   "outputs": [
    {
     "ename": "NameError",
     "evalue": "name 'data_potentielt_begge' is not defined",
     "output_type": "error",
     "traceback": [
      "\u001b[1;31m---------------------------------------------------------------------------\u001b[0m",
      "\u001b[1;31mNameError\u001b[0m                                 Traceback (most recent call last)",
      "Input \u001b[1;32mIn [106]\u001b[0m, in \u001b[0;36m<cell line: 9>\u001b[1;34m()\u001b[0m\n\u001b[0;32m      6\u001b[0m data[\u001b[38;5;124m'\u001b[39m\u001b[38;5;124mfærdiggørelsestid_timer\u001b[39m\u001b[38;5;124m'\u001b[39m] \u001b[38;5;241m=\u001b[39m (data[\u001b[38;5;124m'\u001b[39m\u001b[38;5;124mgyldighedsdato\u001b[39m\u001b[38;5;124m'\u001b[39m] \u001b[38;5;241m-\u001b[39m data[\u001b[38;5;124m'\u001b[39m\u001b[38;5;124mbesoegsdato\u001b[39m\u001b[38;5;124m'\u001b[39m])\u001b[38;5;241m.\u001b[39mdt\u001b[38;5;241m.\u001b[39mtotal_seconds() \u001b[38;5;241m/\u001b[39m \u001b[38;5;241m3600\u001b[39m\n\u001b[0;32m      8\u001b[0m \u001b[38;5;66;03m# Opdater segmenteringen af datasættet\u001b[39;00m\n\u001b[1;32m----> 9\u001b[0m \u001b[43mdata_potentielt_begge\u001b[49m[\u001b[38;5;124m'\u001b[39m\u001b[38;5;124mfærdiggørelsestid_timer\u001b[39m\u001b[38;5;124m'\u001b[39m] \u001b[38;5;241m=\u001b[39m data\u001b[38;5;241m.\u001b[39mloc[data[\u001b[38;5;124m'\u001b[39m\u001b[38;5;124minspektoer_id\u001b[39m\u001b[38;5;124m'\u001b[39m]\u001b[38;5;241m.\u001b[39misin(inspektoerer_kun_en_rapport), \u001b[38;5;124m'\u001b[39m\u001b[38;5;124mfærdiggørelsestid_timer\u001b[39m\u001b[38;5;124m'\u001b[39m]\n\u001b[0;32m     10\u001b[0m data_specialiserede[\u001b[38;5;124m'\u001b[39m\u001b[38;5;124mfærdiggørelsestid_timer\u001b[39m\u001b[38;5;124m'\u001b[39m] \u001b[38;5;241m=\u001b[39m data\u001b[38;5;241m.\u001b[39mloc[\u001b[38;5;241m~\u001b[39mdata[\u001b[38;5;124m'\u001b[39m\u001b[38;5;124minspektoer_id\u001b[39m\u001b[38;5;124m'\u001b[39m]\u001b[38;5;241m.\u001b[39misin(inspektoerer_kun_en_rapport), \u001b[38;5;124m'\u001b[39m\u001b[38;5;124mfærdiggørelsestid_timer\u001b[39m\u001b[38;5;124m'\u001b[39m]\n\u001b[0;32m     12\u001b[0m \u001b[38;5;66;03m# Beregn gennemsnitlig færdiggørelsestid i timer for hver gruppe\u001b[39;00m\n",
      "\u001b[1;31mNameError\u001b[0m: name 'data_potentielt_begge' is not defined"
     ]
    }
   ],
   "source": []
  },
  {
   "cell_type": "code",
   "execution_count": null,
   "id": "5c0bebae",
   "metadata": {},
   "outputs": [],
   "source": [
    "# Opdater segmenteringen af datasættet\n",
    "data_potentielt_begge['færdiggørelsestid_timer'] = data.loc[data['inspektoer_id'].isin(inspektoerer_kun_en_rapport), 'færdiggørelsestid_timer']\n",
    "data_specialiserede['færdiggørelsestid_timer'] = data.loc[~data['inspektoer_id'].isin(inspektoerer_kun_en_rapport), 'færdiggørelsestid_timer']\n",
    "\n",
    "# Beregn gennemsnitlig færdiggørelsestid i timer for hver gruppe\n",
    "gns_færdiggørelsestid_timer_potentielt_begge = data_potentielt_begge['færdiggørelsestid_timer'].mean()\n",
    "gns_færdiggørelsestid_timer_specialiserede = data_specialiserede['færdiggørelsestid_timer'].mean()\n",
    "\n",
    "# Udfør t-test igen for at sammenligne færdiggørelsestid i timer mellem de to grupper\n",
    "t_stat_timer, p_værdi_timer = ttest_ind(\n",
    "    data_potentielt_begge['færdiggørelsestid_timer'].dropna(), \n",
    "    data_specialiserede['færdiggørelsestid_timer'].dropna()\n",
    ")\n",
    "\n",
    "gns_færdiggørelsestid_timer_potentielt_begge, gns_færdiggørelsestid_timer_specialiserede, t_stat_timer, p_værdi_timer"
   ]
  },
  {
   "cell_type": "markdown",
   "id": "618d4221",
   "metadata": {},
   "source": [
    "### Er det inspektøren eller fagområdet som har størst betydning for variationen i færdiggørelsestid?"
   ]
  },
  {
   "cell_type": "code",
   "execution_count": null,
   "id": "adac53b9",
   "metadata": {},
   "outputs": [],
   "source": []
  }
 ],
 "metadata": {
  "kernelspec": {
   "display_name": "Python 3 (ipykernel)",
   "language": "python",
   "name": "python3"
  },
  "language_info": {
   "codemirror_mode": {
    "name": "ipython",
    "version": 3
   },
   "file_extension": ".py",
   "mimetype": "text/x-python",
   "name": "python",
   "nbconvert_exporter": "python",
   "pygments_lexer": "ipython3",
   "version": "3.10.4"
  }
 },
 "nbformat": 4,
 "nbformat_minor": 5
}
